{
 "cells": [
  {
   "cell_type": "markdown",
   "metadata": {},
   "source": [
    "# Titanic: Machine Learning from Disaster"
   ]
  },
  {
   "cell_type": "markdown",
   "metadata": {},
   "source": [
    "![](https://miro.medium.com/max/2100/1*aEkJgr3Vk7plL4K9CF5k6g.jpeg)\n",
    "\n",
    "Overview\n",
    "--\n",
    "The data has been split into two groups: (Given in my Github Repository itself)\n",
    "- training set (train.csv)\n",
    "- test set (test.csv)\n",
    "\n",
    "The training set should be used to build your machine learning models. For the training set, we provide the outcome (also known as the “ground truth”) for each passenger. Your model will be based on “features” like passengers’ gender and class. You can also use feature engineering to create new features.\n",
    "\n",
    "The test set should be used to see how well your model performs on unseen data. For the test set, we do not provide the ground truth for each passenger. It is your job to predict these outcomes. For each passenger in the test set, use the model you trained to predict whether or not they survived the sinking of the Titanic.\n",
    "\n",
    "Data Dictionary\n",
    "--\n",
    "Variable | Definition | Key\n",
    "\n",
    "- survival | Survival\t| 0 = No, 1 = Yes\n",
    "- pclass | Ticket class | 1 = 1st, 2 = 2nd, 3 = 3rd\n",
    "- sex\t| Sex\t\n",
    "- Age | Age in years\t\n",
    "- sibsp | # of siblings / spouses aboard the Titanic\t\n",
    "- parch | # of parents / children aboard the Titanic\t\n",
    "- ticket| Ticket number\t\n",
    "- fare | Passenger fare\t\n",
    "- cabin | Cabin number\t\n",
    "- embarked | Port of Embarkation\tC = Cherbourg, Q = Queenstown, S = Southampton\n",
    "\n",
    "\n",
    "Variable Notes\n",
    "--\n",
    "- pclass: A proxy for socio-economic status (SES)\n",
    "    - 1st = Upper\n",
    "    - 2nd = Middle\n",
    "    - 3rd = Lower\n",
    "\n",
    "- age: Age is fractional if less than 1. If the age is estimated, is it in the form of xx.5\n",
    "\n",
    "- sibsp: The dataset defines family relations in this way...\n",
    "    - Sibling = brother, sister, stepbrother, stepsister\n",
    "    - Spouse = husband, wife (mistresses and fiancés were ignored)\n",
    "\n",
    "- parch: The dataset defines family relations in this way...\n",
    "    - Parent = mother, father\n",
    "    - Child = daughter, son, stepdaughter, stepson\n",
    "    - Some children travelled only with a nanny, therefore parch=0 for them.\n",
    "\n",
    "\n",
    "<div style=\"text-align: right\"><i><font size=\"2\">Challenge by: <a href=\"https://www.linkedin.com/in/manoj95/\" target=\"_parent\">Manoj Chandrashekar (M)</a></font></i></div>"
   ]
  },
  {
   "cell_type": "code",
   "execution_count": null,
   "metadata": {},
   "outputs": [],
   "source": [
    "# your code goes here"
   ]
  }
 ],
 "metadata": {
  "kernelspec": {
   "display_name": "Python 3",
   "language": "python",
   "name": "python3"
  },
  "language_info": {
   "codemirror_mode": {
    "name": "ipython",
    "version": 3
   },
   "file_extension": ".py",
   "mimetype": "text/x-python",
   "name": "python",
   "nbconvert_exporter": "python",
   "pygments_lexer": "ipython3",
   "version": "3.6.4"
  }
 },
 "nbformat": 4,
 "nbformat_minor": 2
}
